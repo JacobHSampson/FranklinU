{
  "nbformat": 4,
  "nbformat_minor": 0,
  "metadata": {
    "colab": {
      "name": "Jacob Sampson Assignment06.ipynb",
      "provenance": [],
      "collapsed_sections": [],
      "include_colab_link": true
    },
    "kernelspec": {
      "name": "python3",
      "display_name": "Python 3"
    }
  },
  "cells": [
    {
      "cell_type": "markdown",
      "metadata": {
        "id": "view-in-github",
        "colab_type": "text"
      },
      "source": [
        "<a href=\"https://colab.research.google.com/github/JacobHSampson/FranklinU/blob/main/Jacob_Sampson_Assignment06.ipynb\" target=\"_parent\"><img src=\"https://colab.research.google.com/assets/colab-badge.svg\" alt=\"Open In Colab\"/></a>"
      ]
    },
    {
      "cell_type": "markdown",
      "metadata": {
        "id": "itDxvmaoOgOI"
      },
      "source": [
        "# Assignment for Week 6      \n",
        "(Chapter 8 & 9)"
      ]
    },
    {
      "cell_type": "markdown",
      "metadata": {
        "id": "FW3jd6aMOhED"
      },
      "source": [
        "## Purpose:     \n",
        "This assignment is intended to help you do the following:     \n",
        "1.\tAdvance your knowledge on working with strings\n",
        "2.\tFamiliarize with regular expression\n",
        "3.\tUse of functions and .apply()\n"
      ]
    },
    {
      "cell_type": "markdown",
      "metadata": {
        "id": "TzDuUf45Ow3f"
      },
      "source": [
        "## Action Items:       \n",
        "•\tWorking with strings.\n",
        "1. Clean a column on your data set using \n",
        "regular expression methods.      \n",
        "2. Store the cleaned column into another column of your data set and call it “your_col_name_cleaned”.     \n",
        "\n",
        "  *Another data set will be provided if your data set is not appropriate to apply regular expression methods.        \n",
        "\n",
        "•\tUse of .apply() \n",
        "\n",
        "1.   Create a function that returns the mean, sum, mode, median, and range (separately)      \n",
        "2.   Run the function into your chosen data set using the .apply() method.     \n",
        "3.   Post your work on GitHub\n"
      ]
    },
    {
      "cell_type": "code",
      "metadata": {
        "id": "f-mcvL53GoG8",
        "outputId": "c2422a95-8244-4a0b-c392-2d9ea5abb70b",
        "colab": {
          "base_uri": "https://localhost:8080/",
          "height": 501
        }
      },
      "source": [
        "import pandas as pd\n",
        "df = pd.read_csv('https://raw.githubusercontent.com/frankData612/data_612/master/stock_data/stocks_yahoo.csv')\n",
        "df.head(5)"
      ],
      "execution_count": 1,
      "outputs": [
        {
          "output_type": "execute_result",
          "data": {
            "text/html": [
              "<div>\n",
              "<style scoped>\n",
              "    .dataframe tbody tr th:only-of-type {\n",
              "        vertical-align: middle;\n",
              "    }\n",
              "\n",
              "    .dataframe tbody tr th {\n",
              "        vertical-align: top;\n",
              "    }\n",
              "\n",
              "    .dataframe thead th {\n",
              "        text-align: right;\n",
              "    }\n",
              "</style>\n",
              "<table border=\"1\" class=\"dataframe\">\n",
              "  <thead>\n",
              "    <tr style=\"text-align: right;\">\n",
              "      <th></th>\n",
              "      <th>no</th>\n",
              "      <th>date</th>\n",
              "      <th>company_name</th>\n",
              "      <th>price_at_close</th>\n",
              "      <th>price_change</th>\n",
              "      <th>price_after_hours</th>\n",
              "      <th>previous_close</th>\n",
              "      <th>today opened</th>\n",
              "      <th>price range</th>\n",
              "      <th>52 week range</th>\n",
              "      <th>volume</th>\n",
              "      <th>average volume</th>\n",
              "      <th>market cap</th>\n",
              "      <th>beta (3Y Monthly)</th>\n",
              "      <th>PE Ratio</th>\n",
              "      <th>EPS</th>\n",
              "      <th>earnings date</th>\n",
              "      <th>Dividend Yield</th>\n",
              "      <th>1Y target est</th>\n",
              "    </tr>\n",
              "  </thead>\n",
              "  <tbody>\n",
              "    <tr>\n",
              "      <th>0</th>\n",
              "      <td>1</td>\n",
              "      <td>Nov 21 2019</td>\n",
              "      <td>GOOG - Alphabet Inc.</td>\n",
              "      <td>1,301.35</td>\n",
              "      <td>-1.70 (-0.13%)</td>\n",
              "      <td>1,301.35</td>\n",
              "      <td>1,303.05</td>\n",
              "      <td>1,301.48</td>\n",
              "      <td>1,293.01 - 1,312.45</td>\n",
              "      <td>970.11 - 1,335.53</td>\n",
              "      <td>825,205</td>\n",
              "      <td>1,280,155</td>\n",
              "      <td>897.113B</td>\n",
              "      <td>1.01</td>\n",
              "      <td>27.93</td>\n",
              "      <td>46.6</td>\n",
              "      <td>NaN</td>\n",
              "      <td>N/A (N/A)</td>\n",
              "      <td>1,487.52</td>\n",
              "    </tr>\n",
              "    <tr>\n",
              "      <th>1</th>\n",
              "      <td>2</td>\n",
              "      <td>Nov 21 2019</td>\n",
              "      <td>GOOGL - Alphabet Inc.</td>\n",
              "      <td>1,300.14</td>\n",
              "      <td>-1.72 (-0.13%)</td>\n",
              "      <td>1,300.14</td>\n",
              "      <td>1,301.86</td>\n",
              "      <td>1,299.25</td>\n",
              "      <td>1,290.75 - 1,311.04</td>\n",
              "      <td>977.66 - 1,333.92</td>\n",
              "      <td>1,058,179</td>\n",
              "      <td>1,296,875</td>\n",
              "      <td>897.098B</td>\n",
              "      <td>1.01</td>\n",
              "      <td>27.9</td>\n",
              "      <td>46.6</td>\n",
              "      <td>Feb 3, 2020 - Feb 7, 2020</td>\n",
              "      <td>N/A (N/A)</td>\n",
              "      <td>1,459.33</td>\n",
              "    </tr>\n",
              "    <tr>\n",
              "      <th>2</th>\n",
              "      <td>3</td>\n",
              "      <td>Nov 21 2019</td>\n",
              "      <td>IBM - International Business Machines Corporation</td>\n",
              "      <td>133.84</td>\n",
              "      <td>+0.64 (+0.48%)</td>\n",
              "      <td>133.84</td>\n",
              "      <td>133.2</td>\n",
              "      <td>133.4</td>\n",
              "      <td>132.98 - 134.17</td>\n",
              "      <td>105.94 - 152.95</td>\n",
              "      <td>2,732,256</td>\n",
              "      <td>3,483,052</td>\n",
              "      <td>118.534B</td>\n",
              "      <td>1.34</td>\n",
              "      <td>15.55</td>\n",
              "      <td>8.6</td>\n",
              "      <td>21-Jan-20</td>\n",
              "      <td>6.48 (4.86%)</td>\n",
              "      <td>148.3</td>\n",
              "    </tr>\n",
              "    <tr>\n",
              "      <th>3</th>\n",
              "      <td>4</td>\n",
              "      <td>Nov 21 2019</td>\n",
              "      <td>MSFT - Microsoft Corporation</td>\n",
              "      <td>149.48</td>\n",
              "      <td>-0.14 (-0.09%)</td>\n",
              "      <td>149.48</td>\n",
              "      <td>149.62</td>\n",
              "      <td>149.4</td>\n",
              "      <td>148.51 - 149.80</td>\n",
              "      <td>93.96 - 151.33</td>\n",
              "      <td>16,125,077</td>\n",
              "      <td>22,813,109</td>\n",
              "      <td>1.14T</td>\n",
              "      <td>1.23</td>\n",
              "      <td>28.2</td>\n",
              "      <td>5.3</td>\n",
              "      <td>Jan 28, 2020 - Feb 3, 2020</td>\n",
              "      <td>2.04 (1.36%)</td>\n",
              "      <td>160.16</td>\n",
              "    </tr>\n",
              "    <tr>\n",
              "      <th>4</th>\n",
              "      <td>5</td>\n",
              "      <td>Nov 21 2019</td>\n",
              "      <td>AAPL - Apple Inc.</td>\n",
              "      <td>262.01</td>\n",
              "      <td>-1.18 (-0.45%)</td>\n",
              "      <td>262.01</td>\n",
              "      <td>263.19</td>\n",
              "      <td>263.69</td>\n",
              "      <td>261.18 - 264.01</td>\n",
              "      <td>142.00 - 268.00</td>\n",
              "      <td>28,768,117</td>\n",
              "      <td>25,813,040</td>\n",
              "      <td>1.184T</td>\n",
              "      <td>1.25</td>\n",
              "      <td>22.04</td>\n",
              "      <td>11.89</td>\n",
              "      <td>Jan 27, 2020 - Jan 31, 2020</td>\n",
              "      <td>3.08 (1.16%)</td>\n",
              "      <td>257.21</td>\n",
              "    </tr>\n",
              "  </tbody>\n",
              "</table>\n",
              "</div>"
            ],
            "text/plain": [
              "   no         date  ... Dividend Yield 1Y target est\n",
              "0   1  Nov 21 2019  ...      N/A (N/A)      1,487.52\n",
              "1   2  Nov 21 2019  ...      N/A (N/A)      1,459.33\n",
              "2   3  Nov 21 2019  ...   6.48 (4.86%)         148.3\n",
              "3   4  Nov 21 2019  ...   2.04 (1.36%)        160.16\n",
              "4   5  Nov 21 2019  ...   3.08 (1.16%)        257.21\n",
              "\n",
              "[5 rows x 19 columns]"
            ]
          },
          "metadata": {
            "tags": []
          },
          "execution_count": 1
        }
      ]
    },
    {
      "cell_type": "markdown",
      "metadata": {
        "id": "9P3fbNCCe7qt"
      },
      "source": [
        "[' (-0.13%)',\n",
        " ' (-0.13%)',\n",
        " ' (+0.48%)',\n",
        " ' (-0.09%)',\n",
        " ' (-0.45%)',\n",
        " ' (+3.41%)',\n",
        " ' (+1.08%)',\n",
        " ' (-0.05%)',\n",
        " ' (-5.32%)']"
      ]
    },
    {
      "cell_type": "code",
      "metadata": {
        "id": "estYQNIEH7Oz",
        "outputId": "e7bb3729-4872-4d6b-d450-ee7790bad6e4",
        "colab": {
          "base_uri": "https://localhost:8080/"
        }
      },
      "source": [
        "df.dtypes\n"
      ],
      "execution_count": 2,
      "outputs": [
        {
          "output_type": "execute_result",
          "data": {
            "text/plain": [
              "no                     int64\n",
              "date                  object\n",
              "company_name          object\n",
              "price_at_close        object\n",
              "price_change          object\n",
              "price_after_hours     object\n",
              "previous_close        object\n",
              "today opened          object\n",
              "price range           object\n",
              "52 week range         object\n",
              "volume                object\n",
              "average volume        object\n",
              "market cap            object\n",
              "beta (3Y Monthly)    float64\n",
              "PE Ratio              object\n",
              "EPS                   object\n",
              "earnings date         object\n",
              "Dividend Yield        object\n",
              "1Y target est         object\n",
              "dtype: object"
            ]
          },
          "metadata": {
            "tags": []
          },
          "execution_count": 2
        }
      ]
    },
    {
      "cell_type": "code",
      "metadata": {
        "id": "JJ0fVcVwIts7",
        "outputId": "319c9762-495c-4723-daf4-a3fc852a5e0c",
        "colab": {
          "base_uri": "https://localhost:8080/"
        }
      },
      "source": [
        "df.columns\n"
      ],
      "execution_count": 3,
      "outputs": [
        {
          "output_type": "execute_result",
          "data": {
            "text/plain": [
              "Index(['no', 'date', 'company_name', 'price_at_close', 'price_change',\n",
              "       'price_after_hours', 'previous_close', 'today opened', 'price range',\n",
              "       '52 week range', 'volume', 'average volume', 'market cap',\n",
              "       'beta (3Y Monthly)', 'PE Ratio', 'EPS', 'earnings date',\n",
              "       'Dividend Yield', '1Y target est'],\n",
              "      dtype='object')"
            ]
          },
          "metadata": {
            "tags": []
          },
          "execution_count": 3
        }
      ]
    },
    {
      "cell_type": "code",
      "metadata": {
        "id": "TRUEYnpYKHlH"
      },
      "source": [
        "import re\n",
        "p = '\\s\\(.\\d+\\.\\d\\d\\%\\)' \n",
        "q = '.\\d+\\.\\d\\d\\s'\n",
        "\n"
      ],
      "execution_count": 4,
      "outputs": []
    },
    {
      "cell_type": "code",
      "metadata": {
        "id": "7ak_j0Iubiqj"
      },
      "source": [
        "def abc(x, y):\n",
        "  clean = re.findall(pattern=y, string=str(x))\n",
        "  return clean"
      ],
      "execution_count": 5,
      "outputs": []
    },
    {
      "cell_type": "code",
      "metadata": {
        "id": "NV1ha5pDeYA6"
      },
      "source": [
        "price_change =df['price_change']"
      ],
      "execution_count": 6,
      "outputs": []
    },
    {
      "cell_type": "code",
      "metadata": {
        "id": "ZySTQZ7cfWSW"
      },
      "source": [
        "df['percent_change'] = df['price_change'].apply(abc,y=p)"
      ],
      "execution_count": 7,
      "outputs": []
    },
    {
      "cell_type": "code",
      "metadata": {
        "id": "D86hd7-clO-Q"
      },
      "source": [
        "df['price_change_fixed'] = df['price_change'].apply(abc,y=q)"
      ],
      "execution_count": 8,
      "outputs": []
    },
    {
      "cell_type": "markdown",
      "metadata": {
        "id": "nqTQfv1O0asf"
      },
      "source": [
        "**Part 2**\n"
      ]
    },
    {
      "cell_type": "code",
      "metadata": {
        "id": "jkgOd3baLyMc",
        "outputId": "3ced496d-681c-419c-dffc-c0f638bfa8bc",
        "colab": {
          "base_uri": "https://localhost:8080/"
        }
      },
      "source": [
        "df['beta (3Y Monthly)'].sum()"
      ],
      "execution_count": 9,
      "outputs": [
        {
          "output_type": "execute_result",
          "data": {
            "text/plain": [
              "67022.71"
            ]
          },
          "metadata": {
            "tags": []
          },
          "execution_count": 9
        }
      ]
    },
    {
      "cell_type": "code",
      "metadata": {
        "id": "vyL_FOhyaK7H"
      },
      "source": [
        "df = df.dropna(subset=['beta (3Y Monthly)'])"
      ],
      "execution_count": 10,
      "outputs": []
    },
    {
      "cell_type": "code",
      "metadata": {
        "id": "DtwuAINNb4K5",
        "outputId": "3337359d-c6a1-4ef5-8fef-fadb2d868b7f",
        "colab": {
          "base_uri": "https://localhost:8080/"
        }
      },
      "source": [
        "df['beta (3Y Monthly)'].count()"
      ],
      "execution_count": 11,
      "outputs": [
        {
          "output_type": "execute_result",
          "data": {
            "text/plain": [
              "63163"
            ]
          },
          "metadata": {
            "tags": []
          },
          "execution_count": 11
        }
      ]
    },
    {
      "cell_type": "code",
      "metadata": {
        "id": "eb5kdaNqZzcU"
      },
      "source": [
        "df['beta (3Y Monthly)'] = df['beta (3Y Monthly)'].astype(float)"
      ],
      "execution_count": 12,
      "outputs": []
    },
    {
      "cell_type": "code",
      "metadata": {
        "id": "NICv30jm0WGp"
      },
      "source": [
        "def descriptive_stats(col):\n",
        "  summ = (col).sum()\n",
        "  average = col.mean()\n",
        "  summ  = average*63163\n",
        "  Mode = col.mode()\n",
        "  Median = col.median()\n",
        "  Min =  col.min()\n",
        "  Max = col.max()\n",
        "  Range = [Min, Max]\n",
        "  print('Average: ', average)\n",
        "  print('Sum:     ', summ)\n",
        "  print('Mode(s):    ', Mode)\n",
        "  print('Median:    ', Median)\n",
        "  print('Range:    ', Range)\n"
      ],
      "execution_count": 21,
      "outputs": []
    },
    {
      "cell_type": "code",
      "metadata": {
        "id": "Wtp1uNjFjkmO"
      },
      "source": [
        "\n",
        "#def descriptive_stats(col):\n",
        "#  summ = col.sum()\n",
        "#  return summ"
      ],
      "execution_count": 14,
      "outputs": []
    },
    {
      "cell_type": "code",
      "metadata": {
        "id": "bl1L2xf8AQKE",
        "outputId": "804e7f65-ea35-4cb2-9495-375f4e571aa7",
        "colab": {
          "base_uri": "https://localhost:8080/",
          "height": 320
        }
      },
      "source": [
        "df['beta (3Y Monthly)'].apply(descriptive_stats)"
      ],
      "execution_count": 15,
      "outputs": [
        {
          "output_type": "error",
          "ename": "AttributeError",
          "evalue": "ignored",
          "traceback": [
            "\u001b[0;31m---------------------------------------------------------------------------\u001b[0m",
            "\u001b[0;31mAttributeError\u001b[0m                            Traceback (most recent call last)",
            "\u001b[0;32m<ipython-input-15-7bab52e8eefc>\u001b[0m in \u001b[0;36m<module>\u001b[0;34m()\u001b[0m\n\u001b[0;32m----> 1\u001b[0;31m \u001b[0mdf\u001b[0m\u001b[0;34m[\u001b[0m\u001b[0;34m'beta (3Y Monthly)'\u001b[0m\u001b[0;34m]\u001b[0m\u001b[0;34m.\u001b[0m\u001b[0mapply\u001b[0m\u001b[0;34m(\u001b[0m\u001b[0mdescriptive_stats\u001b[0m\u001b[0;34m)\u001b[0m\u001b[0;34m\u001b[0m\u001b[0;34m\u001b[0m\u001b[0m\n\u001b[0m",
            "\u001b[0;32m/usr/local/lib/python3.6/dist-packages/pandas/core/series.py\u001b[0m in \u001b[0;36mapply\u001b[0;34m(self, func, convert_dtype, args, **kwds)\u001b[0m\n\u001b[1;32m   4210\u001b[0m             \u001b[0;32melse\u001b[0m\u001b[0;34m:\u001b[0m\u001b[0;34m\u001b[0m\u001b[0;34m\u001b[0m\u001b[0m\n\u001b[1;32m   4211\u001b[0m                 \u001b[0mvalues\u001b[0m \u001b[0;34m=\u001b[0m \u001b[0mself\u001b[0m\u001b[0;34m.\u001b[0m\u001b[0mastype\u001b[0m\u001b[0;34m(\u001b[0m\u001b[0mobject\u001b[0m\u001b[0;34m)\u001b[0m\u001b[0;34m.\u001b[0m\u001b[0m_values\u001b[0m\u001b[0;34m\u001b[0m\u001b[0;34m\u001b[0m\u001b[0m\n\u001b[0;32m-> 4212\u001b[0;31m                 \u001b[0mmapped\u001b[0m \u001b[0;34m=\u001b[0m \u001b[0mlib\u001b[0m\u001b[0;34m.\u001b[0m\u001b[0mmap_infer\u001b[0m\u001b[0;34m(\u001b[0m\u001b[0mvalues\u001b[0m\u001b[0;34m,\u001b[0m \u001b[0mf\u001b[0m\u001b[0;34m,\u001b[0m \u001b[0mconvert\u001b[0m\u001b[0;34m=\u001b[0m\u001b[0mconvert_dtype\u001b[0m\u001b[0;34m)\u001b[0m\u001b[0;34m\u001b[0m\u001b[0;34m\u001b[0m\u001b[0m\n\u001b[0m\u001b[1;32m   4213\u001b[0m \u001b[0;34m\u001b[0m\u001b[0m\n\u001b[1;32m   4214\u001b[0m         \u001b[0;32mif\u001b[0m \u001b[0mlen\u001b[0m\u001b[0;34m(\u001b[0m\u001b[0mmapped\u001b[0m\u001b[0;34m)\u001b[0m \u001b[0;32mand\u001b[0m \u001b[0misinstance\u001b[0m\u001b[0;34m(\u001b[0m\u001b[0mmapped\u001b[0m\u001b[0;34m[\u001b[0m\u001b[0;36m0\u001b[0m\u001b[0;34m]\u001b[0m\u001b[0;34m,\u001b[0m \u001b[0mSeries\u001b[0m\u001b[0;34m)\u001b[0m\u001b[0;34m:\u001b[0m\u001b[0;34m\u001b[0m\u001b[0;34m\u001b[0m\u001b[0m\n",
            "\u001b[0;32mpandas/_libs/lib.pyx\u001b[0m in \u001b[0;36mpandas._libs.lib.map_infer\u001b[0;34m()\u001b[0m\n",
            "\u001b[0;32m<ipython-input-14-1ca855e9e67d>\u001b[0m in \u001b[0;36mdescriptive_stats\u001b[0;34m(col)\u001b[0m\n\u001b[1;32m      1\u001b[0m \u001b[0;34m\u001b[0m\u001b[0m\n\u001b[1;32m      2\u001b[0m \u001b[0;32mdef\u001b[0m \u001b[0mdescriptive_stats\u001b[0m\u001b[0;34m(\u001b[0m\u001b[0mcol\u001b[0m\u001b[0;34m)\u001b[0m\u001b[0;34m:\u001b[0m\u001b[0;34m\u001b[0m\u001b[0;34m\u001b[0m\u001b[0m\n\u001b[0;32m----> 3\u001b[0;31m   \u001b[0msumm\u001b[0m \u001b[0;34m=\u001b[0m \u001b[0mcol\u001b[0m\u001b[0;34m.\u001b[0m\u001b[0msum\u001b[0m\u001b[0;34m(\u001b[0m\u001b[0;34m)\u001b[0m\u001b[0;34m\u001b[0m\u001b[0;34m\u001b[0m\u001b[0m\n\u001b[0m\u001b[1;32m      4\u001b[0m   \u001b[0;32mreturn\u001b[0m \u001b[0msumm\u001b[0m\u001b[0;34m\u001b[0m\u001b[0;34m\u001b[0m\u001b[0m\n",
            "\u001b[0;31mAttributeError\u001b[0m: 'float' object has no attribute 'sum'"
          ]
        }
      ]
    },
    {
      "cell_type": "code",
      "metadata": {
        "id": "UUel9LZM2Fjb",
        "outputId": "0e5520b6-bd3e-4feb-d1f5-50b3d8a39c1d",
        "colab": {
          "base_uri": "https://localhost:8080/"
        }
      },
      "source": [
        "descriptive_stats(df['beta (3Y Monthly)'])"
      ],
      "execution_count": 22,
      "outputs": [
        {
          "output_type": "stream",
          "text": [
            "Average:  1.0611071355065547\n",
            "Sum:      67022.71000000052\n",
            "Mode(s):     0    1.03\n",
            "1    1.11\n",
            "dtype: float64\n",
            "Median:     1.0\n",
            "Range:     [-90.11, 79.02]\n"
          ],
          "name": "stdout"
        }
      ]
    },
    {
      "cell_type": "code",
      "metadata": {
        "id": "pNCEdlAXgKb9"
      },
      "source": [
        ""
      ],
      "execution_count": null,
      "outputs": []
    }
  ]
}