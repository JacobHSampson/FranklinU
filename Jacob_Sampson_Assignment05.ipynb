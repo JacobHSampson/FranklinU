{
  "nbformat": 4,
  "nbformat_minor": 0,
  "metadata": {
    "colab": {
      "name": "Jacob Sampson Assignment05.ipynb",
      "provenance": [],
      "collapsed_sections": [],
      "include_colab_link": true
    },
    "kernelspec": {
      "name": "python3",
      "display_name": "Python 3"
    }
  },
  "cells": [
    {
      "cell_type": "markdown",
      "metadata": {
        "id": "view-in-github",
        "colab_type": "text"
      },
      "source": [
        "<a href=\"https://colab.research.google.com/github/JacobHSampson/FranklinU/blob/main/Jacob_Sampson_Assignment05.ipynb\" target=\"_parent\"><img src=\"https://colab.research.google.com/assets/colab-badge.svg\" alt=\"Open In Colab\"/></a>"
      ]
    },
    {
      "cell_type": "markdown",
      "metadata": {
        "id": "PVPwSURJLrm5"
      },
      "source": [
        "# Assignment for Week 5      \n",
        "(Chapter 6 & 7)"
      ]
    },
    {
      "cell_type": "markdown",
      "metadata": {
        "id": "oxOFlqNrMDvt"
      },
      "source": [
        "## Purpose:\n",
        "This assignment is intended to help you do the following:       \n",
        "1.\tDifferentiate between categorical and non-categorical variables\n",
        "2.\tConvert variables from one type to another\n",
        "3.\tFamiliarize with strings\n"
      ]
    },
    {
      "cell_type": "markdown",
      "metadata": {
        "id": "rzBeh3W4MEzh"
      },
      "source": [
        "## Action Items:      \n",
        "•\tConvert data\n",
        "1. Work on your selected data set and covert a column of non-categorical type into a categorical type. \n",
        "2. Convert another column into a string type. \n",
        "3. Post your work on GitHub\n",
        "4. Add a README file\n"
      ]
    },
    {
      "cell_type": "code",
      "metadata": {
        "id": "Cd8mfWOHyIZG",
        "outputId": "6d2a1661-7d7f-4170-8f6a-9bb582aaae9d",
        "colab": {
          "base_uri": "https://localhost:8080/",
          "height": 501
        }
      },
      "source": [
        "import pandas as pd\n",
        "df = pd.read_csv('https://raw.githubusercontent.com/frankData612/data_612/master/stock_data/stocks_yahoo.csv')\n",
        "df.head()"
      ],
      "execution_count": null,
      "outputs": [
        {
          "output_type": "execute_result",
          "data": {
            "text/html": [
              "<div>\n",
              "<style scoped>\n",
              "    .dataframe tbody tr th:only-of-type {\n",
              "        vertical-align: middle;\n",
              "    }\n",
              "\n",
              "    .dataframe tbody tr th {\n",
              "        vertical-align: top;\n",
              "    }\n",
              "\n",
              "    .dataframe thead th {\n",
              "        text-align: right;\n",
              "    }\n",
              "</style>\n",
              "<table border=\"1\" class=\"dataframe\">\n",
              "  <thead>\n",
              "    <tr style=\"text-align: right;\">\n",
              "      <th></th>\n",
              "      <th>no</th>\n",
              "      <th>date</th>\n",
              "      <th>company_name</th>\n",
              "      <th>price_at_close</th>\n",
              "      <th>price_change</th>\n",
              "      <th>price_after_hours</th>\n",
              "      <th>previous_close</th>\n",
              "      <th>today opened</th>\n",
              "      <th>price range</th>\n",
              "      <th>52 week range</th>\n",
              "      <th>volume</th>\n",
              "      <th>average volume</th>\n",
              "      <th>market cap</th>\n",
              "      <th>beta (3Y Monthly)</th>\n",
              "      <th>PE Ratio</th>\n",
              "      <th>EPS</th>\n",
              "      <th>earnings date</th>\n",
              "      <th>Dividend Yield</th>\n",
              "      <th>1Y target est</th>\n",
              "    </tr>\n",
              "  </thead>\n",
              "  <tbody>\n",
              "    <tr>\n",
              "      <th>0</th>\n",
              "      <td>1</td>\n",
              "      <td>Nov 21 2019</td>\n",
              "      <td>GOOG - Alphabet Inc.</td>\n",
              "      <td>1,301.35</td>\n",
              "      <td>-1.70 (-0.13%)</td>\n",
              "      <td>1,301.35</td>\n",
              "      <td>1,303.05</td>\n",
              "      <td>1,301.48</td>\n",
              "      <td>1,293.01 - 1,312.45</td>\n",
              "      <td>970.11 - 1,335.53</td>\n",
              "      <td>825,205</td>\n",
              "      <td>1,280,155</td>\n",
              "      <td>897.113B</td>\n",
              "      <td>1.01</td>\n",
              "      <td>27.93</td>\n",
              "      <td>46.6</td>\n",
              "      <td>NaN</td>\n",
              "      <td>N/A (N/A)</td>\n",
              "      <td>1,487.52</td>\n",
              "    </tr>\n",
              "    <tr>\n",
              "      <th>1</th>\n",
              "      <td>2</td>\n",
              "      <td>Nov 21 2019</td>\n",
              "      <td>GOOGL - Alphabet Inc.</td>\n",
              "      <td>1,300.14</td>\n",
              "      <td>-1.72 (-0.13%)</td>\n",
              "      <td>1,300.14</td>\n",
              "      <td>1,301.86</td>\n",
              "      <td>1,299.25</td>\n",
              "      <td>1,290.75 - 1,311.04</td>\n",
              "      <td>977.66 - 1,333.92</td>\n",
              "      <td>1,058,179</td>\n",
              "      <td>1,296,875</td>\n",
              "      <td>897.098B</td>\n",
              "      <td>1.01</td>\n",
              "      <td>27.9</td>\n",
              "      <td>46.6</td>\n",
              "      <td>Feb 3, 2020 - Feb 7, 2020</td>\n",
              "      <td>N/A (N/A)</td>\n",
              "      <td>1,459.33</td>\n",
              "    </tr>\n",
              "    <tr>\n",
              "      <th>2</th>\n",
              "      <td>3</td>\n",
              "      <td>Nov 21 2019</td>\n",
              "      <td>IBM - International Business Machines Corporation</td>\n",
              "      <td>133.84</td>\n",
              "      <td>+0.64 (+0.48%)</td>\n",
              "      <td>133.84</td>\n",
              "      <td>133.2</td>\n",
              "      <td>133.4</td>\n",
              "      <td>132.98 - 134.17</td>\n",
              "      <td>105.94 - 152.95</td>\n",
              "      <td>2,732,256</td>\n",
              "      <td>3,483,052</td>\n",
              "      <td>118.534B</td>\n",
              "      <td>1.34</td>\n",
              "      <td>15.55</td>\n",
              "      <td>8.6</td>\n",
              "      <td>21-Jan-20</td>\n",
              "      <td>6.48 (4.86%)</td>\n",
              "      <td>148.3</td>\n",
              "    </tr>\n",
              "    <tr>\n",
              "      <th>3</th>\n",
              "      <td>4</td>\n",
              "      <td>Nov 21 2019</td>\n",
              "      <td>MSFT - Microsoft Corporation</td>\n",
              "      <td>149.48</td>\n",
              "      <td>-0.14 (-0.09%)</td>\n",
              "      <td>149.48</td>\n",
              "      <td>149.62</td>\n",
              "      <td>149.4</td>\n",
              "      <td>148.51 - 149.80</td>\n",
              "      <td>93.96 - 151.33</td>\n",
              "      <td>16,125,077</td>\n",
              "      <td>22,813,109</td>\n",
              "      <td>1.14T</td>\n",
              "      <td>1.23</td>\n",
              "      <td>28.2</td>\n",
              "      <td>5.3</td>\n",
              "      <td>Jan 28, 2020 - Feb 3, 2020</td>\n",
              "      <td>2.04 (1.36%)</td>\n",
              "      <td>160.16</td>\n",
              "    </tr>\n",
              "    <tr>\n",
              "      <th>4</th>\n",
              "      <td>5</td>\n",
              "      <td>Nov 21 2019</td>\n",
              "      <td>AAPL - Apple Inc.</td>\n",
              "      <td>262.01</td>\n",
              "      <td>-1.18 (-0.45%)</td>\n",
              "      <td>262.01</td>\n",
              "      <td>263.19</td>\n",
              "      <td>263.69</td>\n",
              "      <td>261.18 - 264.01</td>\n",
              "      <td>142.00 - 268.00</td>\n",
              "      <td>28,768,117</td>\n",
              "      <td>25,813,040</td>\n",
              "      <td>1.184T</td>\n",
              "      <td>1.25</td>\n",
              "      <td>22.04</td>\n",
              "      <td>11.89</td>\n",
              "      <td>Jan 27, 2020 - Jan 31, 2020</td>\n",
              "      <td>3.08 (1.16%)</td>\n",
              "      <td>257.21</td>\n",
              "    </tr>\n",
              "  </tbody>\n",
              "</table>\n",
              "</div>"
            ],
            "text/plain": [
              "   no         date  ... Dividend Yield 1Y target est\n",
              "0   1  Nov 21 2019  ...      N/A (N/A)      1,487.52\n",
              "1   2  Nov 21 2019  ...      N/A (N/A)      1,459.33\n",
              "2   3  Nov 21 2019  ...   6.48 (4.86%)         148.3\n",
              "3   4  Nov 21 2019  ...   2.04 (1.36%)        160.16\n",
              "4   5  Nov 21 2019  ...   3.08 (1.16%)        257.21\n",
              "\n",
              "[5 rows x 19 columns]"
            ]
          },
          "metadata": {
            "tags": []
          },
          "execution_count": 4
        }
      ]
    },
    {
      "cell_type": "code",
      "metadata": {
        "id": "86OYXzOLyPEm",
        "outputId": "7f0abe21-d041-4c0d-9f97-97a8e1e392d0",
        "colab": {
          "base_uri": "https://localhost:8080/"
        }
      },
      "source": [
        "df.dtypes"
      ],
      "execution_count": null,
      "outputs": [
        {
          "output_type": "execute_result",
          "data": {
            "text/plain": [
              "no                     int64\n",
              "date                  object\n",
              "company_name          object\n",
              "price_at_close        object\n",
              "price_change          object\n",
              "price_after_hours     object\n",
              "previous_close        object\n",
              "today opened          object\n",
              "price range           object\n",
              "52 week range         object\n",
              "volume                object\n",
              "average volume        object\n",
              "market cap            object\n",
              "beta (3Y Monthly)    float64\n",
              "PE Ratio              object\n",
              "EPS                   object\n",
              "earnings date         object\n",
              "Dividend Yield        object\n",
              "1Y target est         object\n",
              "dtype: object"
            ]
          },
          "metadata": {
            "tags": []
          },
          "execution_count": 3
        }
      ]
    },
    {
      "cell_type": "code",
      "metadata": {
        "id": "QhxiRdIYzUW3",
        "outputId": "4d170666-d7cb-4685-ed3a-3b4799def0d8",
        "colab": {
          "base_uri": "https://localhost:8080/"
        }
      },
      "source": [
        "df['price_change'] = df['price_change'].astype('category')\n",
        "\n",
        "print(df.info())"
      ],
      "execution_count": null,
      "outputs": [
        {
          "output_type": "stream",
          "text": [
            "<class 'pandas.core.frame.DataFrame'>\n",
            "RangeIndex: 67905 entries, 0 to 67904\n",
            "Data columns (total 19 columns):\n",
            " #   Column             Non-Null Count  Dtype   \n",
            "---  ------             --------------  -----   \n",
            " 0   no                 67905 non-null  int64   \n",
            " 1   date               67905 non-null  object  \n",
            " 2   company_name       67905 non-null  object  \n",
            " 3   price_at_close     67761 non-null  object  \n",
            " 4   price_change       67761 non-null  category\n",
            " 5   price_after_hours  67761 non-null  object  \n",
            " 6   previous_close     67761 non-null  object  \n",
            " 7   today opened       67750 non-null  object  \n",
            " 8   price range        67756 non-null  object  \n",
            " 9   52 week range      67657 non-null  object  \n",
            " 10  volume             67752 non-null  object  \n",
            " 11  average volume     66584 non-null  object  \n",
            " 12  market cap         67298 non-null  object  \n",
            " 13  beta (3Y Monthly)  67905 non-null  object  \n",
            " 14  PE Ratio           60220 non-null  object  \n",
            " 15  EPS                64962 non-null  object  \n",
            " 16  earnings date      57611 non-null  object  \n",
            " 17  Dividend Yield     67625 non-null  object  \n",
            " 18  1Y target est      57931 non-null  object  \n",
            "dtypes: category(1), int64(1), object(17)\n",
            "memory usage: 11.2+ MB\n",
            "None\n"
          ],
          "name": "stdout"
        }
      ]
    },
    {
      "cell_type": "code",
      "metadata": {
        "id": "l27pSibEywor",
        "outputId": "0a838148-142e-46ef-9a47-aa4862be8678",
        "colab": {
          "base_uri": "https://localhost:8080/"
        }
      },
      "source": [
        "df['beta (3Y Monthly)'] = df['beta (3Y Monthly)'].astype(str)\n",
        "\n",
        "print(df.dtypes)"
      ],
      "execution_count": null,
      "outputs": [
        {
          "output_type": "stream",
          "text": [
            "no                    int64\n",
            "date                 object\n",
            "company_name         object\n",
            "price_at_close       object\n",
            "price_change         object\n",
            "price_after_hours    object\n",
            "previous_close       object\n",
            "today opened         object\n",
            "price range          object\n",
            "52 week range        object\n",
            "volume               object\n",
            "average volume       object\n",
            "market cap           object\n",
            "beta (3Y Monthly)    object\n",
            "PE Ratio             object\n",
            "EPS                  object\n",
            "earnings date        object\n",
            "Dividend Yield       object\n",
            "1Y target est        object\n",
            "dtype: object\n"
          ],
          "name": "stdout"
        }
      ]
    }
  ]
}