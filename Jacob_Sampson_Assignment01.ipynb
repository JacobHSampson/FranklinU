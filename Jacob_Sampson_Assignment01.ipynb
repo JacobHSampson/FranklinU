{
  "nbformat": 4,
  "nbformat_minor": 0,
  "metadata": {
    "colab": {
      "name": "Jacob Sampson Assignment01.ipynb",
      "provenance": [],
      "collapsed_sections": [],
      "toc_visible": true,
      "include_colab_link": true
    },
    "kernelspec": {
      "name": "python3",
      "display_name": "Python 3"
    }
  },
  "cells": [
    {
      "cell_type": "markdown",
      "metadata": {
        "id": "view-in-github",
        "colab_type": "text"
      },
      "source": [
        "<a href=\"https://colab.research.google.com/github/JacobHSampson/FranklinU/blob/main/Jacob_Sampson_Assignment01.ipynb\" target=\"_parent\"><img src=\"https://colab.research.google.com/assets/colab-badge.svg\" alt=\"Open In Colab\"/></a>"
      ]
    },
    {
      "cell_type": "markdown",
      "metadata": {
        "id": "AfEUM8RW3Njt"
      },
      "source": [
        "# Assignment for Week 1    \n"
      ]
    },
    {
      "cell_type": "markdown",
      "metadata": {
        "id": "uXfHJZ0D3K8p"
      },
      "source": [
        "## Purpose:      \n",
        "This assignment is intended to help you do the following:       \n",
        "1.\tOpen a GitHub account for your own use and for your career advancement (if you already do not have one).     \n",
        "2.\tSubmit information and code in GitHub following best practices from the Udacity course.     \n",
        "3.\tExplore a dataset thoroughly.      \n",
        "4.\tFind and print descriptive information from the dataset.        \n"
      ]
    },
    {
      "cell_type": "markdown",
      "metadata": {
        "id": "DpWCrf_Q4OV3"
      },
      "source": [
        "## Action Items:           \n",
        "Open a GitHub account to submit your work. If you are new to GitHub, follow the videos and instructions on the following link to understand how to post things on GitHub and start your own account. https://blog.udacity.com/2015/06/a-beginners-git-github-tutorial.html and/or https://guides.github.com/activities/hello-world/     \n",
        "\n",
        "1.   Select the dataset of your choice from the list \n",
        "provided <a href=\"https://github.com/frankData612/data_612\">here.</a>   \n",
        "2.   Load the dataset using Jupyter notebook and explore the data by using the following.\n",
        "\n",
        "\n",
        "-\tShow the .head() and .tail() of the data set. Specify the number of rows to print using .head() and .tail().      \n",
        "-\tPrint the column names.      \n",
        "-\tPrint to see what is the type of your data set    \n",
        "-\tCheck number of rows and columns.\n",
        "-\tUse groupby() and find the mean on your selected colum/s.\n",
        "-\tAdd a README file in GitHub where you explain everything you did.\n"
      ]
    },
    {
      "cell_type": "code",
      "metadata": {
        "id": "epB67ECk0TDi"
      },
      "source": [
        "import pandas as pd"
      ],
      "execution_count": null,
      "outputs": []
    },
    {
      "cell_type": "code",
      "metadata": {
        "id": "vVpdKx4-0dMI"
      },
      "source": [
        "df = pd.read_csv('https://raw.githubusercontent.com/frankData612/data_612/master/stock_data/stocks_yahoo.csv')"
      ],
      "execution_count": null,
      "outputs": []
    },
    {
      "cell_type": "code",
      "metadata": {
        "id": "1H5M36rM4GrP",
        "outputId": "8ecb6784-66f9-4699-e6e6-46cba906d824",
        "colab": {
          "base_uri": "https://localhost:8080/",
          "height": 501
        }
      },
      "source": [
        "df.head()"
      ],
      "execution_count": null,
      "outputs": [
        {
          "output_type": "execute_result",
          "data": {
            "text/html": [
              "<div>\n",
              "<style scoped>\n",
              "    .dataframe tbody tr th:only-of-type {\n",
              "        vertical-align: middle;\n",
              "    }\n",
              "\n",
              "    .dataframe tbody tr th {\n",
              "        vertical-align: top;\n",
              "    }\n",
              "\n",
              "    .dataframe thead th {\n",
              "        text-align: right;\n",
              "    }\n",
              "</style>\n",
              "<table border=\"1\" class=\"dataframe\">\n",
              "  <thead>\n",
              "    <tr style=\"text-align: right;\">\n",
              "      <th></th>\n",
              "      <th>no</th>\n",
              "      <th>date</th>\n",
              "      <th>company_name</th>\n",
              "      <th>price_at_close</th>\n",
              "      <th>price_change</th>\n",
              "      <th>price_after_hours</th>\n",
              "      <th>previous_close</th>\n",
              "      <th>today opened</th>\n",
              "      <th>price range</th>\n",
              "      <th>52 week range</th>\n",
              "      <th>volume</th>\n",
              "      <th>average volume</th>\n",
              "      <th>market cap</th>\n",
              "      <th>beta (3Y Monthly)</th>\n",
              "      <th>PE Ratio</th>\n",
              "      <th>EPS</th>\n",
              "      <th>earnings date</th>\n",
              "      <th>Dividend Yield</th>\n",
              "      <th>1Y target est</th>\n",
              "    </tr>\n",
              "  </thead>\n",
              "  <tbody>\n",
              "    <tr>\n",
              "      <th>0</th>\n",
              "      <td>1</td>\n",
              "      <td>Nov 21 2019</td>\n",
              "      <td>GOOG - Alphabet Inc.</td>\n",
              "      <td>1,301.35</td>\n",
              "      <td>-1.70 (-0.13%)</td>\n",
              "      <td>1,301.35</td>\n",
              "      <td>1,303.05</td>\n",
              "      <td>1,301.48</td>\n",
              "      <td>1,293.01 - 1,312.45</td>\n",
              "      <td>970.11 - 1,335.53</td>\n",
              "      <td>825,205</td>\n",
              "      <td>1,280,155</td>\n",
              "      <td>897.113B</td>\n",
              "      <td>1.01</td>\n",
              "      <td>27.93</td>\n",
              "      <td>46.6</td>\n",
              "      <td>NaN</td>\n",
              "      <td>N/A (N/A)</td>\n",
              "      <td>1,487.52</td>\n",
              "    </tr>\n",
              "    <tr>\n",
              "      <th>1</th>\n",
              "      <td>2</td>\n",
              "      <td>Nov 21 2019</td>\n",
              "      <td>GOOGL - Alphabet Inc.</td>\n",
              "      <td>1,300.14</td>\n",
              "      <td>-1.72 (-0.13%)</td>\n",
              "      <td>1,300.14</td>\n",
              "      <td>1,301.86</td>\n",
              "      <td>1,299.25</td>\n",
              "      <td>1,290.75 - 1,311.04</td>\n",
              "      <td>977.66 - 1,333.92</td>\n",
              "      <td>1,058,179</td>\n",
              "      <td>1,296,875</td>\n",
              "      <td>897.098B</td>\n",
              "      <td>1.01</td>\n",
              "      <td>27.9</td>\n",
              "      <td>46.6</td>\n",
              "      <td>Feb 3, 2020 - Feb 7, 2020</td>\n",
              "      <td>N/A (N/A)</td>\n",
              "      <td>1,459.33</td>\n",
              "    </tr>\n",
              "    <tr>\n",
              "      <th>2</th>\n",
              "      <td>3</td>\n",
              "      <td>Nov 21 2019</td>\n",
              "      <td>IBM - International Business Machines Corporation</td>\n",
              "      <td>133.84</td>\n",
              "      <td>+0.64 (+0.48%)</td>\n",
              "      <td>133.84</td>\n",
              "      <td>133.2</td>\n",
              "      <td>133.4</td>\n",
              "      <td>132.98 - 134.17</td>\n",
              "      <td>105.94 - 152.95</td>\n",
              "      <td>2,732,256</td>\n",
              "      <td>3,483,052</td>\n",
              "      <td>118.534B</td>\n",
              "      <td>1.34</td>\n",
              "      <td>15.55</td>\n",
              "      <td>8.6</td>\n",
              "      <td>21-Jan-20</td>\n",
              "      <td>6.48 (4.86%)</td>\n",
              "      <td>148.3</td>\n",
              "    </tr>\n",
              "    <tr>\n",
              "      <th>3</th>\n",
              "      <td>4</td>\n",
              "      <td>Nov 21 2019</td>\n",
              "      <td>MSFT - Microsoft Corporation</td>\n",
              "      <td>149.48</td>\n",
              "      <td>-0.14 (-0.09%)</td>\n",
              "      <td>149.48</td>\n",
              "      <td>149.62</td>\n",
              "      <td>149.4</td>\n",
              "      <td>148.51 - 149.80</td>\n",
              "      <td>93.96 - 151.33</td>\n",
              "      <td>16,125,077</td>\n",
              "      <td>22,813,109</td>\n",
              "      <td>1.14T</td>\n",
              "      <td>1.23</td>\n",
              "      <td>28.2</td>\n",
              "      <td>5.3</td>\n",
              "      <td>Jan 28, 2020 - Feb 3, 2020</td>\n",
              "      <td>2.04 (1.36%)</td>\n",
              "      <td>160.16</td>\n",
              "    </tr>\n",
              "    <tr>\n",
              "      <th>4</th>\n",
              "      <td>5</td>\n",
              "      <td>Nov 21 2019</td>\n",
              "      <td>AAPL - Apple Inc.</td>\n",
              "      <td>262.01</td>\n",
              "      <td>-1.18 (-0.45%)</td>\n",
              "      <td>262.01</td>\n",
              "      <td>263.19</td>\n",
              "      <td>263.69</td>\n",
              "      <td>261.18 - 264.01</td>\n",
              "      <td>142.00 - 268.00</td>\n",
              "      <td>28,768,117</td>\n",
              "      <td>25,813,040</td>\n",
              "      <td>1.184T</td>\n",
              "      <td>1.25</td>\n",
              "      <td>22.04</td>\n",
              "      <td>11.89</td>\n",
              "      <td>Jan 27, 2020 - Jan 31, 2020</td>\n",
              "      <td>3.08 (1.16%)</td>\n",
              "      <td>257.21</td>\n",
              "    </tr>\n",
              "  </tbody>\n",
              "</table>\n",
              "</div>"
            ],
            "text/plain": [
              "   no         date  ... Dividend Yield 1Y target est\n",
              "0   1  Nov 21 2019  ...      N/A (N/A)      1,487.52\n",
              "1   2  Nov 21 2019  ...      N/A (N/A)      1,459.33\n",
              "2   3  Nov 21 2019  ...   6.48 (4.86%)         148.3\n",
              "3   4  Nov 21 2019  ...   2.04 (1.36%)        160.16\n",
              "4   5  Nov 21 2019  ...   3.08 (1.16%)        257.21\n",
              "\n",
              "[5 rows x 19 columns]"
            ]
          },
          "metadata": {
            "tags": []
          },
          "execution_count": 12
        }
      ]
    },
    {
      "cell_type": "code",
      "metadata": {
        "id": "KazqwNJx4S5M",
        "outputId": "790aff43-7dec-49e7-acb8-961e63b8226e",
        "colab": {
          "base_uri": "https://localhost:8080/",
          "height": 434
        }
      },
      "source": [
        "df.tail(5)"
      ],
      "execution_count": null,
      "outputs": [
        {
          "output_type": "execute_result",
          "data": {
            "text/html": [
              "<div>\n",
              "<style scoped>\n",
              "    .dataframe tbody tr th:only-of-type {\n",
              "        vertical-align: middle;\n",
              "    }\n",
              "\n",
              "    .dataframe tbody tr th {\n",
              "        vertical-align: top;\n",
              "    }\n",
              "\n",
              "    .dataframe thead th {\n",
              "        text-align: right;\n",
              "    }\n",
              "</style>\n",
              "<table border=\"1\" class=\"dataframe\">\n",
              "  <thead>\n",
              "    <tr style=\"text-align: right;\">\n",
              "      <th></th>\n",
              "      <th>no</th>\n",
              "      <th>date</th>\n",
              "      <th>company_name</th>\n",
              "      <th>price_at_close</th>\n",
              "      <th>price_change</th>\n",
              "      <th>price_after_hours</th>\n",
              "      <th>previous_close</th>\n",
              "      <th>today opened</th>\n",
              "      <th>price range</th>\n",
              "      <th>52 week range</th>\n",
              "      <th>volume</th>\n",
              "      <th>average volume</th>\n",
              "      <th>market cap</th>\n",
              "      <th>beta (3Y Monthly)</th>\n",
              "      <th>PE Ratio</th>\n",
              "      <th>EPS</th>\n",
              "      <th>earnings date</th>\n",
              "      <th>Dividend Yield</th>\n",
              "      <th>1Y target est</th>\n",
              "    </tr>\n",
              "  </thead>\n",
              "  <tbody>\n",
              "    <tr>\n",
              "      <th>67900</th>\n",
              "      <td>67901</td>\n",
              "      <td>Apr 28 2020</td>\n",
              "      <td>FLEX - Flex Ltd.</td>\n",
              "      <td>9.11</td>\n",
              "      <td>+0.30 (+3.41%)</td>\n",
              "      <td>9.11</td>\n",
              "      <td>8.81</td>\n",
              "      <td>9.11</td>\n",
              "      <td>8.87 - 9.31</td>\n",
              "      <td>5.36 - 14.00</td>\n",
              "      <td>4,175,426</td>\n",
              "      <td>5,924,769</td>\n",
              "      <td>4.591B</td>\n",
              "      <td>1.88</td>\n",
              "      <td>NaN</td>\n",
              "      <td>-0.05</td>\n",
              "      <td>7-May-20</td>\n",
              "      <td>N/A (N/A)</td>\n",
              "      <td>12.83</td>\n",
              "    </tr>\n",
              "    <tr>\n",
              "      <th>67901</th>\n",
              "      <td>67902</td>\n",
              "      <td>Apr 28 2020</td>\n",
              "      <td>MEI - Methode Electronics, Inc.</td>\n",
              "      <td>29.84</td>\n",
              "      <td>+0.32 (+1.08%)</td>\n",
              "      <td>29.84</td>\n",
              "      <td>29.52</td>\n",
              "      <td>30.19</td>\n",
              "      <td>29.70 - 30.75</td>\n",
              "      <td>21.76 - 41.70</td>\n",
              "      <td>206,184</td>\n",
              "      <td>236,257</td>\n",
              "      <td>1.107B</td>\n",
              "      <td>1.43</td>\n",
              "      <td>9.72</td>\n",
              "      <td>3.07</td>\n",
              "      <td>Jun 18, 2020 - Jun 22, 2020</td>\n",
              "      <td>0.44 (1.49%)</td>\n",
              "      <td>33.33</td>\n",
              "    </tr>\n",
              "    <tr>\n",
              "      <th>67902</th>\n",
              "      <td>67903</td>\n",
              "      <td>Apr 28 2020</td>\n",
              "      <td>IEC - IEC Electronics Corp.</td>\n",
              "      <td>7.01</td>\n",
              "      <td>0.00 (0.00%)</td>\n",
              "      <td>7.01</td>\n",
              "      <td>7.01</td>\n",
              "      <td>7.1</td>\n",
              "      <td>6.93 - 7.10</td>\n",
              "      <td>5.00 - 9.57</td>\n",
              "      <td>3,880</td>\n",
              "      <td>34,352</td>\n",
              "      <td>72.812M</td>\n",
              "      <td>0.94</td>\n",
              "      <td>15.24</td>\n",
              "      <td>0.46</td>\n",
              "      <td>6-May-20</td>\n",
              "      <td>N/A (N/A)</td>\n",
              "      <td>11.5</td>\n",
              "    </tr>\n",
              "    <tr>\n",
              "      <th>67903</th>\n",
              "      <td>67904</td>\n",
              "      <td>Apr 28 2020</td>\n",
              "      <td>MGLN - Magellan Health, Inc.</td>\n",
              "      <td>55.11</td>\n",
              "      <td>-0.03 (-0.05%)</td>\n",
              "      <td>55.11</td>\n",
              "      <td>55.14</td>\n",
              "      <td>54.74</td>\n",
              "      <td>53.28 - 56.21</td>\n",
              "      <td>30.60 - 81.04</td>\n",
              "      <td>167,075</td>\n",
              "      <td>193,042</td>\n",
              "      <td>1.361B</td>\n",
              "      <td>0.97</td>\n",
              "      <td>24.17</td>\n",
              "      <td>2.28</td>\n",
              "      <td>11-May-20</td>\n",
              "      <td>N/A (N/A)</td>\n",
              "      <td>67.67</td>\n",
              "    </tr>\n",
              "    <tr>\n",
              "      <th>67904</th>\n",
              "      <td>67905</td>\n",
              "      <td>Apr 28 2020</td>\n",
              "      <td>ZS - Zscaler, Inc.</td>\n",
              "      <td>66.72</td>\n",
              "      <td>-3.75 (-5.32%)</td>\n",
              "      <td>66.72</td>\n",
              "      <td>70.47</td>\n",
              "      <td>71</td>\n",
              "      <td>66.26 - 71.20</td>\n",
              "      <td>35.00 - 89.54</td>\n",
              "      <td>3,035,697</td>\n",
              "      <td>3,062,403</td>\n",
              "      <td>8.63B</td>\n",
              "      <td>0.54</td>\n",
              "      <td>NaN</td>\n",
              "      <td>-0.5</td>\n",
              "      <td>20-Feb-20</td>\n",
              "      <td>N/A (N/A)</td>\n",
              "      <td>67.62</td>\n",
              "    </tr>\n",
              "  </tbody>\n",
              "</table>\n",
              "</div>"
            ],
            "text/plain": [
              "          no         date  ... Dividend Yield 1Y target est\n",
              "67900  67901  Apr 28 2020  ...      N/A (N/A)         12.83\n",
              "67901  67902  Apr 28 2020  ...   0.44 (1.49%)         33.33\n",
              "67902  67903  Apr 28 2020  ...      N/A (N/A)          11.5\n",
              "67903  67904  Apr 28 2020  ...      N/A (N/A)         67.67\n",
              "67904  67905  Apr 28 2020  ...      N/A (N/A)         67.62\n",
              "\n",
              "[5 rows x 19 columns]"
            ]
          },
          "metadata": {
            "tags": []
          },
          "execution_count": 13
        }
      ]
    },
    {
      "cell_type": "code",
      "metadata": {
        "id": "LBruICLyc2d7",
        "outputId": "fc160baf-102b-4628-c2ad-487031c32c56",
        "colab": {
          "base_uri": "https://localhost:8080/",
          "height": 118
        }
      },
      "source": [
        "df.columns"
      ],
      "execution_count": null,
      "outputs": [
        {
          "output_type": "execute_result",
          "data": {
            "text/plain": [
              "Index(['no', 'date', 'company_name', 'price_at_close', 'price_change',\n",
              "       'price_after_hours', 'previous_close', 'today opened', 'price range',\n",
              "       '52 week range', 'volume', 'average volume', 'market cap',\n",
              "       'beta (3Y Monthly)', 'PE Ratio', 'EPS', 'earnings date',\n",
              "       'Dividend Yield', '1Y target est'],\n",
              "      dtype='object')"
            ]
          },
          "metadata": {
            "tags": []
          },
          "execution_count": 14
        }
      ]
    },
    {
      "cell_type": "code",
      "metadata": {
        "id": "XvVDc6MGcGAB",
        "outputId": "a4d9d0c8-d6cc-46dc-b53a-2f94a4170bd2",
        "colab": {
          "base_uri": "https://localhost:8080/",
          "height": 34
        }
      },
      "source": [
        "type(df)"
      ],
      "execution_count": null,
      "outputs": [
        {
          "output_type": "execute_result",
          "data": {
            "text/plain": [
              "pandas.core.frame.DataFrame"
            ]
          },
          "metadata": {
            "tags": []
          },
          "execution_count": 15
        }
      ]
    },
    {
      "cell_type": "code",
      "metadata": {
        "id": "WjjGRu1Fgc7T",
        "outputId": "6b959fa5-57ad-421b-b51f-09d34aa2a7d4",
        "colab": {
          "base_uri": "https://localhost:8080/",
          "height": 353
        }
      },
      "source": [
        "df.dtypes"
      ],
      "execution_count": null,
      "outputs": [
        {
          "output_type": "execute_result",
          "data": {
            "text/plain": [
              "no                     int64\n",
              "date                  object\n",
              "company_name          object\n",
              "price_at_close        object\n",
              "price_change          object\n",
              "price_after_hours     object\n",
              "previous_close        object\n",
              "today opened          object\n",
              "price range           object\n",
              "52 week range         object\n",
              "volume                object\n",
              "average volume        object\n",
              "market cap            object\n",
              "beta (3Y Monthly)    float64\n",
              "PE Ratio              object\n",
              "EPS                   object\n",
              "earnings date         object\n",
              "Dividend Yield        object\n",
              "1Y target est         object\n",
              "dtype: object"
            ]
          },
          "metadata": {
            "tags": []
          },
          "execution_count": 22
        }
      ]
    },
    {
      "cell_type": "code",
      "metadata": {
        "id": "u_P7bPC1d4Yh",
        "outputId": "23d076d0-d792-4b96-c134-675f95cedcf9",
        "colab": {
          "base_uri": "https://localhost:8080/",
          "height": 34
        }
      },
      "source": [
        "df.shape"
      ],
      "execution_count": null,
      "outputs": [
        {
          "output_type": "execute_result",
          "data": {
            "text/plain": [
              "(67905, 19)"
            ]
          },
          "metadata": {
            "tags": []
          },
          "execution_count": 16
        }
      ]
    },
    {
      "cell_type": "code",
      "metadata": {
        "id": "oDtbOLR0fGD0",
        "outputId": "260ce977-cc02-4192-d78e-97b3d38a2333",
        "colab": {
          "base_uri": "https://localhost:8080/",
          "height": 235
        }
      },
      "source": [
        "df.groupby(['date'])['beta (3Y Monthly)'].mean()"
      ],
      "execution_count": null,
      "outputs": [
        {
          "output_type": "execute_result",
          "data": {
            "text/plain": [
              "date\n",
              "Apr 01 2020    1.364849\n",
              "Apr 02 2020    1.190114\n",
              "Apr 03 2020    1.189886\n",
              "Apr 06 2020    1.376509\n",
              "Apr 07 2020    1.317920\n",
              "                 ...   \n",
              "Mar 30 2020    1.197909\n",
              "Mar 31 2020    1.365340\n",
              "Nov 21 2019    1.032083\n",
              "Nov 22 2019    1.182526\n",
              "Nov 25 2019    0.670298\n",
              "Name: beta (3Y Monthly), Length: 90, dtype: float64"
            ]
          },
          "metadata": {
            "tags": []
          },
          "execution_count": 24
        }
      ]
    }
  ]
}