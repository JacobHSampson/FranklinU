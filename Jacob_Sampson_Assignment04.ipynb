{
  "nbformat": 4,
  "nbformat_minor": 0,
  "metadata": {
    "colab": {
      "name": "Jacob Sampson Assignment04.ipynb",
      "provenance": [],
      "collapsed_sections": [],
      "include_colab_link": true
    },
    "kernelspec": {
      "name": "python3",
      "display_name": "Python 3"
    }
  },
  "cells": [
    {
      "cell_type": "markdown",
      "metadata": {
        "id": "view-in-github",
        "colab_type": "text"
      },
      "source": [
        "<a href=\"https://colab.research.google.com/github/JacobHSampson/FranklinU/blob/main/Jacob_Sampson_Assignment04.ipynb\" target=\"_parent\"><img src=\"https://colab.research.google.com/assets/colab-badge.svg\" alt=\"Open In Colab\"/></a>"
      ]
    },
    {
      "cell_type": "markdown",
      "metadata": {
        "id": "ieZzcgQQKck4"
      },
      "source": [
        "# Assignment for Week 4      \n",
        "(Chapter 4 & 5)"
      ]
    },
    {
      "cell_type": "markdown",
      "metadata": {
        "id": "tLuHjR9xKniP"
      },
      "source": [
        "## Purpose:         \n",
        "This assignment is intended to help you do the following:\n",
        "1.\tFamiliarize with merging datasets together\n",
        "2.\tLearn how to identify missing data from a dataset\n",
        "3.\tHandle the missing data from the dataset\n"
      ]
    },
    {
      "cell_type": "markdown",
      "metadata": {
        "id": "GeOmQFNKK4Nm"
      },
      "source": [
        "## Action Items:\n",
        "•\tMerge other data to your selected data set.    \n",
        "1. Find another data set, series, text data or a column from another data source and merge with your selected data set.      \n",
        "2. Identify the missing values on your data set. Count the missing values on your data set and then clean your data set from the missing values.       \n",
        "3. Post your work on GitHub     \n",
        "4. Add a README\n"
      ]
    },
    {
      "cell_type": "code",
      "metadata": {
        "id": "pGda6od5WTDH"
      },
      "source": [
        "import pandas as pd\n",
        "salaries = pd.read_csv('https://raw.githubusercontent.com/frankData612/data_612/master/baseballdatabank-master/core/Salaries.csv')\n",
        "people = pd.read_csv('https://raw.githubusercontent.com/frankData612/data_612/master/baseballdatabank-master/core/People.csv')"
      ],
      "execution_count": null,
      "outputs": []
    },
    {
      "cell_type": "code",
      "metadata": {
        "id": "e0cdzAaGYmuf",
        "outputId": "84228cb0-11ab-4ac5-abf6-684c504b5933",
        "colab": {
          "base_uri": "https://localhost:8080/",
          "height": 252
        }
      },
      "source": [
        "merge = salaries.merge(people, on = 'playerID')\n",
        "print(merge)"
      ],
      "execution_count": null,
      "outputs": [
        {
          "output_type": "stream",
          "text": [
            "       yearID teamID lgID  ...   finalGame   retroID    bbrefID\n",
            "0        1985    ATL   NL  ...  1987-09-26  barkl001  barkele01\n",
            "1        1986    ATL   NL  ...  1987-09-26  barkl001  barkele01\n",
            "2        1987    ATL   NL  ...  1987-09-26  barkl001  barkele01\n",
            "3        1987    ML4   AL  ...  1987-09-26  barkl001  barkele01\n",
            "4        1988    ATL   NL  ...  1987-09-26  barkl001  barkele01\n",
            "...       ...    ...  ...  ...         ...       ...        ...\n",
            "26423    2016    TOR   AL  ...  2019-09-28  osunr001  osunaro01\n",
            "26424    2016    TOR   AL  ...  2016-09-18  schub001  schulbo02\n",
            "26425    2016    TOR   AL  ...  2018-09-21  travd001  travide01\n",
            "26426    2016    WAS   NL  ...  2019-09-12  rivef001  riverfe01\n",
            "26427    2016    WAS   NL  ...  2019-09-29  rossj002   rossjo01\n",
            "\n",
            "[26428 rows x 28 columns]\n"
          ],
          "name": "stdout"
        }
      ]
    },
    {
      "cell_type": "code",
      "metadata": {
        "id": "Zh4nbglKa6LC",
        "outputId": "f6eb0c25-3037-4ae0-c333-37442ec76b4f",
        "colab": {
          "base_uri": "https://localhost:8080/",
          "height": 504
        }
      },
      "source": [
        "print(merge.count())"
      ],
      "execution_count": null,
      "outputs": [
        {
          "output_type": "stream",
          "text": [
            "yearID          26428\n",
            "teamID          26428\n",
            "lgID            26428\n",
            "playerID        26428\n",
            "salary          26428\n",
            "birthYear       26428\n",
            "birthMonth      26428\n",
            "birthDay        26428\n",
            "birthCountry    26428\n",
            "birthState      25368\n",
            "birthCity       26425\n",
            "deathYear         563\n",
            "deathMonth        563\n",
            "deathDay          563\n",
            "deathCountry      563\n",
            "deathState        554\n",
            "deathCity         562\n",
            "nameFirst       26428\n",
            "nameLast        26428\n",
            "nameGiven       26428\n",
            "weight          26428\n",
            "height          26428\n",
            "bats            26428\n",
            "throws          26428\n",
            "debut           26428\n",
            "finalGame       26428\n",
            "retroID         26428\n",
            "bbrefID         26428\n",
            "dtype: int64\n"
          ],
          "name": "stdout"
        }
      ]
    },
    {
      "cell_type": "code",
      "metadata": {
        "id": "jVl3bePHbIqA",
        "outputId": "10d970e7-c125-4c14-a112-9f1aa04bad54",
        "colab": {
          "base_uri": "https://localhost:8080/",
          "height": 504
        }
      },
      "source": [
        "num_rows = merge.shape[0]\n",
        "\n",
        "num_missing = num_rows - merge.count()\n",
        "\n",
        "print(num_missing)"
      ],
      "execution_count": null,
      "outputs": [
        {
          "output_type": "stream",
          "text": [
            "yearID              0\n",
            "teamID              0\n",
            "lgID                0\n",
            "playerID            0\n",
            "salary              0\n",
            "birthYear           0\n",
            "birthMonth          0\n",
            "birthDay            0\n",
            "birthCountry        0\n",
            "birthState       1060\n",
            "birthCity           3\n",
            "deathYear       25865\n",
            "deathMonth      25865\n",
            "deathDay        25865\n",
            "deathCountry    25865\n",
            "deathState      25874\n",
            "deathCity       25866\n",
            "nameFirst           0\n",
            "nameLast            0\n",
            "nameGiven           0\n",
            "weight              0\n",
            "height              0\n",
            "bats                0\n",
            "throws              0\n",
            "debut               0\n",
            "finalGame           0\n",
            "retroID             0\n",
            "bbrefID             0\n",
            "dtype: int64\n"
          ],
          "name": "stdout"
        }
      ]
    },
    {
      "cell_type": "code",
      "metadata": {
        "id": "7TDlymr8fdXR",
        "outputId": "895e3307-d019-4ceb-d6c5-25ccf15e41d6",
        "colab": {
          "base_uri": "https://localhost:8080/",
          "height": 34
        }
      },
      "source": [
        "merge.shape"
      ],
      "execution_count": null,
      "outputs": [
        {
          "output_type": "execute_result",
          "data": {
            "text/plain": [
              "(26428, 28)"
            ]
          },
          "metadata": {
            "tags": []
          },
          "execution_count": 25
        }
      ]
    },
    {
      "cell_type": "code",
      "metadata": {
        "id": "BBt3ROAtfiHk",
        "outputId": "984aaf52-943e-4266-e1d0-7cebaecc16da",
        "colab": {
          "base_uri": "https://localhost:8080/",
          "height": 252
        }
      },
      "source": [
        "merge = merge.drop(['birthState', 'birthCity', 'deathState','deathCity'], axis=1)\n",
        "print(merge)"
      ],
      "execution_count": null,
      "outputs": [
        {
          "output_type": "stream",
          "text": [
            "       yearID teamID lgID  ...   finalGame   retroID    bbrefID\n",
            "0        1985    ATL   NL  ...  1987-09-26  barkl001  barkele01\n",
            "1        1986    ATL   NL  ...  1987-09-26  barkl001  barkele01\n",
            "2        1987    ATL   NL  ...  1987-09-26  barkl001  barkele01\n",
            "3        1987    ML4   AL  ...  1987-09-26  barkl001  barkele01\n",
            "4        1988    ATL   NL  ...  1987-09-26  barkl001  barkele01\n",
            "...       ...    ...  ...  ...         ...       ...        ...\n",
            "26423    2016    TOR   AL  ...  2019-09-28  osunr001  osunaro01\n",
            "26424    2016    TOR   AL  ...  2016-09-18  schub001  schulbo02\n",
            "26425    2016    TOR   AL  ...  2018-09-21  travd001  travide01\n",
            "26426    2016    WAS   NL  ...  2019-09-12  rivef001  riverfe01\n",
            "26427    2016    WAS   NL  ...  2019-09-29  rossj002   rossjo01\n",
            "\n",
            "[26428 rows x 24 columns]\n"
          ],
          "name": "stdout"
        }
      ]
    },
    {
      "cell_type": "code",
      "metadata": {
        "id": "1uXoHn9VgeX-",
        "outputId": "66574312-d2f5-4f62-8c2d-18e651b40b10",
        "colab": {
          "base_uri": "https://localhost:8080/",
          "height": 34
        }
      },
      "source": [
        "merge.shape"
      ],
      "execution_count": null,
      "outputs": [
        {
          "output_type": "execute_result",
          "data": {
            "text/plain": [
              "(26428, 24)"
            ]
          },
          "metadata": {
            "tags": []
          },
          "execution_count": 27
        }
      ]
    },
    {
      "cell_type": "code",
      "metadata": {
        "id": "63AXii1vo7Fz",
        "outputId": "1ea6322c-7f00-4027-c5b7-1034ea3e62f5",
        "colab": {
          "base_uri": "https://localhost:8080/",
          "height": 252
        }
      },
      "source": [
        "print(merge.fillna('Not Deceased').iloc[0:26428, 0:23]) "
      ],
      "execution_count": null,
      "outputs": [
        {
          "output_type": "stream",
          "text": [
            "       yearID teamID lgID   playerID  ...  throws       debut   finalGame   retroID\n",
            "0        1985    ATL   NL  barkele01  ...       R  1976-09-14  1987-09-26  barkl001\n",
            "1        1986    ATL   NL  barkele01  ...       R  1976-09-14  1987-09-26  barkl001\n",
            "2        1987    ATL   NL  barkele01  ...       R  1976-09-14  1987-09-26  barkl001\n",
            "3        1987    ML4   AL  barkele01  ...       R  1976-09-14  1987-09-26  barkl001\n",
            "4        1988    ATL   NL  barkele01  ...       R  1976-09-14  1987-09-26  barkl001\n",
            "...       ...    ...  ...        ...  ...     ...         ...         ...       ...\n",
            "26423    2016    TOR   AL  osunaro01  ...       R  2015-04-08  2019-09-28  osunr001\n",
            "26424    2016    TOR   AL  schulbo02  ...       R  2014-03-23  2016-09-18  schub001\n",
            "26425    2016    TOR   AL  travide01  ...       R  2015-04-06  2018-09-21  travd001\n",
            "26426    2016    WAS   NL  riverfe01  ...       L  2015-04-17  2019-09-12  rivef001\n",
            "26427    2016    WAS   NL   rossjo01  ...       R  2015-06-06  2019-09-29  rossj002\n",
            "\n",
            "[26428 rows x 23 columns]\n"
          ],
          "name": "stdout"
        }
      ]
    }
  ]
}